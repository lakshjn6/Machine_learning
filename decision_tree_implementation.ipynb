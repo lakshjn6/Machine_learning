{
 "cells": [
  {
   "cell_type": "code",
   "execution_count": 1,
   "id": "126b0729-8e4a-4b30-8e2e-4af25c1408ad",
   "metadata": {},
   "outputs": [],
   "source": [
    "#algorithm of decision tree"
   ]
  },
  {
   "cell_type": "code",
   "execution_count": 2,
   "id": "ff4facfc-d60a-40ec-824c-f66b7b4ac211",
   "metadata": {},
   "outputs": [],
   "source": [
    "import numpy as np"
   ]
  },
  {
   "cell_type": "code",
   "execution_count": 3,
   "id": "85c6af80-1a78-4535-9c4c-7c1c4462353f",
   "metadata": {},
   "outputs": [],
   "source": [
    "import pandas as pd"
   ]
  },
  {
   "cell_type": "code",
   "execution_count": 4,
   "id": "18c298a4-afd5-4d30-ab5a-2d371ca065ac",
   "metadata": {},
   "outputs": [],
   "source": [
    "def entropy(p):\n",
    "      return -p*np.log2(p)-(1-p)*np.log2(1-p)"
   ]
  },
  {
   "cell_type": "code",
   "execution_count": 5,
   "id": "323753c7-cc8d-4bf4-95fa-423fd0ace65d",
   "metadata": {},
   "outputs": [
    {
     "data": {
      "text/plain": [
       "1.0"
      ]
     },
     "execution_count": 5,
     "metadata": {},
     "output_type": "execute_result"
    }
   ],
   "source": [
    "entropy(0.5)"
   ]
  },
  {
   "cell_type": "code",
   "execution_count": 9,
   "id": "62cff731-8530-437f-b51c-063f5ee47e58",
   "metadata": {},
   "outputs": [],
   "source": [
    "def split_indices(X,y,feature_scale):\n",
    "    right_indices=[]\n",
    "    left_indices=[]\n",
    "    for i,x in enumerate(X):\n",
    "          if x[feature_scale]==1:\n",
    "              left_indices.append(i)\n",
    "          else:\n",
    "            right_indices.append(i)\n",
    "    return left_indices,right_indices"
   ]
  },
  {
   "cell_type": "code",
   "execution_count": 10,
   "id": "35a06616-7a63-4897-9c79-6b81f530b34c",
   "metadata": {},
   "outputs": [],
   "source": [
    "def weight_entropy(X,y,left_indices,right_indices):\n",
    "    w_ryt=len(right_indices)/len(X)\n",
    "    w_lft=len(left_indices)/len(X)\n",
    "    p_right=np.sum(y[right_indices])/len(right_indices)\n",
    "    p_left=np.sum(y[left_indices])/len(left_indices)\n",
    "    wt_entropy=w_lft*entropy(p_left)+w_ryt*entropy(p_left)\n",
    "    return wt_entropy"
   ]
  },
  {
   "cell_type": "code",
   "execution_count": 11,
   "id": "34debb85-da9d-46db-a20b-7e735adfc91b",
   "metadata": {},
   "outputs": [],
   "source": [
    "def information_gain(X,y,left_indices,right_indices):\n",
    "    p_node=np.sum(y)/len(X)\n",
    "    entropy_node=entropy(p_node)\n",
    "    weight_ent = weight_entropy(X,y,left_indices,right_indices)\n",
    "    return entropy_node-weight_ent"
   ]
  },
  {
   "cell_type": "code",
   "execution_count": null,
   "id": "ab2390e2-0712-4378-be8e-625e7211b270",
   "metadata": {},
   "outputs": [],
   "source": [
    "for i,feature_name in enumerate(['Earshape','FaceShape','Whisker']):\n",
    "       left_indices,right_indices=split_indices(X,i)\n",
    "       i_gain=information_gain(X,y,left_indices,right_indices)"
   ]
  }
 ],
 "metadata": {
  "kernelspec": {
   "display_name": "Python 3 (ipykernel)",
   "language": "python",
   "name": "python3"
  },
  "language_info": {
   "codemirror_mode": {
    "name": "ipython",
    "version": 3
   },
   "file_extension": ".py",
   "mimetype": "text/x-python",
   "name": "python",
   "nbconvert_exporter": "python",
   "pygments_lexer": "ipython3",
   "version": "3.12.4"
  }
 },
 "nbformat": 4,
 "nbformat_minor": 5
}
