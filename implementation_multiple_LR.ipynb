{
 "cells": [
  {
   "cell_type": "code",
   "execution_count": 2,
   "id": "2125b00c-841f-4c32-82f6-2d908293e0c0",
   "metadata": {},
   "outputs": [],
   "source": [
    "import numpy as np\n",
    "import pandas as pd\n"
   ]
  },
  {
   "cell_type": "code",
   "execution_count": 9,
   "id": "495b0de3-f59f-4954-8591-906176d20d4c",
   "metadata": {},
   "outputs": [],
   "source": [
    "def multiple_regr(x,y,l_r,epocs):\n",
    " n_sample,n_feature=x.shape\n",
    " b=0\n",
    " w=np.zeros((n_feature,1))\n",
    " m=n_sample\n",
    " for i in range(epocs):\n",
    "      y_p=np.dot(x,w)+b\n",
    "\n",
    "      dw=-(1/m)*np.dot(x.T,(y-y_p))\n",
    "      db=-(1/m)*np.sum(y-y_p)\n",
    "\n",
    "\n",
    "      w-=l_r*dw\n",
    "      b-=l_r*db\n",
    "\n",
    " return w,b\n",
    "\n",
    "\n",
    "\n"
   ]
  },
  {
   "cell_type": "code",
   "execution_count": 10,
   "id": "db717427-19e1-4a0c-a68a-74947bf75828",
   "metadata": {},
   "outputs": [
    {
     "name": "stdout",
     "output_type": "stream",
     "text": [
      "Weights (w): \n",
      "[[0.08707819]\n",
      " [1.95855128]]\n",
      "Bias (b): 1.871473082643492\n"
     ]
    }
   ],
   "source": [
    "X = np.array([[1,2],[3,4],[5, 6]]) \n",
    "y = np.array([[6], [10], [14]])        \n",
    "\n",
    "\n",
    "\n",
    "\n",
    "learning_rate=0.01\n",
    "epochs = 1000\n",
    "w, b =multiple_regr(X, y,learning_rate, epochs)\n",
    "print(f\"Weights (w): \\n{w}\")\n",
    "print(f\"Bias (b): {b}\")"
   ]
  },
  {
   "cell_type": "code",
   "execution_count": null,
   "id": "7001b070-d1cf-408a-8c7c-547f692889a9",
   "metadata": {},
   "outputs": [],
   "source": []
  }
 ],
 "metadata": {
  "kernelspec": {
   "display_name": "Python 3 (ipykernel)",
   "language": "python",
   "name": "python3"
  },
  "language_info": {
   "codemirror_mode": {
    "name": "ipython",
    "version": 3
   },
   "file_extension": ".py",
   "mimetype": "text/x-python",
   "name": "python",
   "nbconvert_exporter": "python",
   "pygments_lexer": "ipython3",
   "version": "3.12.4"
  }
 },
 "nbformat": 4,
 "nbformat_minor": 5
}
